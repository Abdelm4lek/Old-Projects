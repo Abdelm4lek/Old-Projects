{
 "cells": [
  {
   "cell_type": "code",
   "execution_count": null,
   "id": "98470073",
   "metadata": {
    "_cell_guid": "b1076dfc-b9ad-4769-8c92-a6c4dae69d19",
    "_uuid": "8f2839f25d086af736a60e9eeb907d3b93b6e0e5",
    "execution": {
     "iopub.execute_input": "2024-08-22T15:42:09.863516Z",
     "iopub.status.busy": "2024-08-22T15:42:09.862450Z",
     "iopub.status.idle": "2024-08-22T15:42:27.230937Z",
     "shell.execute_reply": "2024-08-22T15:42:27.229916Z"
    },
    "papermill": {
     "duration": 17.385757,
     "end_time": "2024-08-22T15:42:27.233906",
     "exception": false,
     "start_time": "2024-08-22T15:42:09.848149",
     "status": "completed"
    },
    "tags": []
   },
   "outputs": [],
   "source": [
    "# Import the necessary libraries\n",
    "import pandas as pd\n",
    "import numpy as np\n",
    "import matplotlib.pyplot as plt\n",
    "import seaborn as sns\n",
    "import pmdarima as pm \n",
    "\n",
    "# Time series analysis\n",
    "from statsmodels.tsa.arima_model import ARIMA\n",
    "from statsmodels.graphics.tsaplots import plot_acf, plot_pacf # type: ignore\n",
    "from statsmodels.tsa.stattools import adfuller\n",
    "import statsmodels.api as sm\n",
    "from pmdarima.arima import auto_arima\n",
    "# Ignore warnings\n",
    "import warnings\n",
    "warnings.filterwarnings(\"ignore\")"
   ]
  },
  {
   "cell_type": "markdown",
   "id": "c23bf7ce",
   "metadata": {
    "papermill": {
     "duration": 0.017229,
     "end_time": "2024-08-22T15:42:27.265251",
     "exception": false,
     "start_time": "2024-08-22T15:42:27.248022",
     "status": "completed"
    },
    "tags": []
   },
   "source": [
    "## 1. Overview of the dataset:\n",
    "The series that is the subject of this notebook is the monthly average price of \"Brent\" oil from January 2011 to May 2022."
   ]
  },
  {
   "cell_type": "code",
   "execution_count": null,
   "id": "4517e84d",
   "metadata": {
    "execution": {
     "iopub.execute_input": "2024-08-22T15:42:27.297771Z",
     "iopub.status.busy": "2024-08-22T15:42:27.296809Z",
     "iopub.status.idle": "2024-08-22T15:42:27.362670Z",
     "shell.execute_reply": "2024-08-22T15:42:27.361682Z"
    },
    "papermill": {
     "duration": 0.085178,
     "end_time": "2024-08-22T15:42:27.365517",
     "exception": false,
     "start_time": "2024-08-22T15:42:27.280339",
     "status": "completed"
    },
    "tags": []
   },
   "outputs": [],
   "source": [
    "dateparse = lambda dates: pd.to_datetime(dates, format='%d/%m/%Y')\n",
    "dataset = pd.read_csv('./Brent Oil Historical Data.csv', parse_dates=['Date'], index_col='Date', date_parser=dateparse)\n",
    "dataset.head(10)"
   ]
  },
  {
   "cell_type": "markdown",
   "id": "d1dc772e",
   "metadata": {
    "papermill": {
     "duration": 0.014241,
     "end_time": "2024-08-22T15:42:27.394505",
     "exception": false,
     "start_time": "2024-08-22T15:42:27.380264",
     "status": "completed"
    },
    "tags": []
   },
   "source": [
    "We see that our dataset contains several variables (Price, Open, High...), and the observations start from 1988... but we are only interested in the variable Price, which represents the monthly closing price, from January 2011."
   ]
  },
  {
   "cell_type": "code",
   "execution_count": null,
   "id": "847f5304",
   "metadata": {
    "execution": {
     "iopub.execute_input": "2024-08-22T15:42:27.426234Z",
     "iopub.status.busy": "2024-08-22T15:42:27.425806Z",
     "iopub.status.idle": "2024-08-22T15:42:27.448446Z",
     "shell.execute_reply": "2024-08-22T15:42:27.447516Z"
    },
    "papermill": {
     "duration": 0.041599,
     "end_time": "2024-08-22T15:42:27.450852",
     "exception": false,
     "start_time": "2024-08-22T15:42:27.409253",
     "status": "completed"
    },
    "tags": []
   },
   "outputs": [],
   "source": [
    "df = pd.DataFrame(dataset)\n",
    "data = df[['Price']].copy()\n",
    "data = data['2011':]\n",
    "data.head()"
   ]
  },
  {
   "cell_type": "code",
   "execution_count": null,
   "id": "50a4be47",
   "metadata": {
    "execution": {
     "iopub.execute_input": "2024-08-22T15:42:27.482396Z",
     "iopub.status.busy": "2024-08-22T15:42:27.481972Z",
     "iopub.status.idle": "2024-08-22T15:42:27.495390Z",
     "shell.execute_reply": "2024-08-22T15:42:27.494351Z"
    },
    "papermill": {
     "duration": 0.031969,
     "end_time": "2024-08-22T15:42:27.497802",
     "exception": false,
     "start_time": "2024-08-22T15:42:27.465833",
     "status": "completed"
    },
    "tags": []
   },
   "outputs": [],
   "source": [
    "print(data.describe())"
   ]
  },
  {
   "cell_type": "markdown",
   "id": "1fbf82f9",
   "metadata": {
    "papermill": {
     "duration": 0.014882,
     "end_time": "2024-08-22T15:42:27.527658",
     "exception": false,
     "start_time": "2024-08-22T15:42:27.512776",
     "status": "completed"
    },
    "tags": []
   },
   "source": [
    "Above, a summary of the statistics of the dataset.\n",
    "\n",
    "Now we will see the curve of the price fluctuation;"
   ]
  },
  {
   "cell_type": "code",
   "execution_count": null,
   "id": "f6f9f6e5",
   "metadata": {
    "execution": {
     "iopub.execute_input": "2024-08-22T15:42:27.559737Z",
     "iopub.status.busy": "2024-08-22T15:42:27.558794Z",
     "iopub.status.idle": "2024-08-22T15:42:27.852930Z",
     "shell.execute_reply": "2024-08-22T15:42:27.851888Z"
    },
    "papermill": {
     "duration": 0.312738,
     "end_time": "2024-08-22T15:42:27.855343",
     "exception": false,
     "start_time": "2024-08-22T15:42:27.542605",
     "status": "completed"
    },
    "tags": []
   },
   "outputs": [],
   "source": [
    "data.plot(figsize=(10,5))\n",
    "plt.show()"
   ]
  },
  {
   "cell_type": "markdown",
   "id": "c854d66e",
   "metadata": {
    "papermill": {
     "duration": 0.015453,
     "end_time": "2024-08-22T15:42:27.886597",
     "exception": false,
     "start_time": "2024-08-22T15:42:27.871144",
     "status": "completed"
    },
    "tags": []
   },
   "source": [
    "## 2. Stationarity analysis:\n",
    "\n",
    "#### Simple and Partial ACFs:\n"
   ]
  },
  {
   "cell_type": "code",
   "execution_count": null,
   "id": "203417f2",
   "metadata": {
    "execution": {
     "iopub.execute_input": "2024-08-22T15:42:27.919401Z",
     "iopub.status.busy": "2024-08-22T15:42:27.918961Z",
     "iopub.status.idle": "2024-08-22T15:42:28.358895Z",
     "shell.execute_reply": "2024-08-22T15:42:28.357896Z"
    },
    "papermill": {
     "duration": 0.459213,
     "end_time": "2024-08-22T15:42:28.361359",
     "exception": false,
     "start_time": "2024-08-22T15:42:27.902146",
     "status": "completed"
    },
    "tags": []
   },
   "outputs": [],
   "source": [
    "plot_acf(data), plot_pacf(data)\n",
    "plt.show()"
   ]
  },
  {
   "cell_type": "markdown",
   "id": "934da728",
   "metadata": {
    "papermill": {
     "duration": 0.015857,
     "end_time": "2024-08-22T15:42:28.393684",
     "exception": false,
     "start_time": "2024-08-22T15:42:28.377827",
     "status": "completed"
    },
    "tags": []
   },
   "source": [
    "#### Time series decomposition"
   ]
  },
  {
   "cell_type": "code",
   "execution_count": 10,
   "id": "8cb65146",
   "metadata": {
    "execution": {
     "iopub.execute_input": "2024-08-22T15:42:28.429283Z",
     "iopub.status.busy": "2024-08-22T15:42:28.428306Z",
     "iopub.status.idle": "2024-08-22T15:42:28.438634Z",
     "shell.execute_reply": "2024-08-22T15:42:28.437633Z"
    },
    "papermill": {
     "duration": 0.03135,
     "end_time": "2024-08-22T15:42:28.441080",
     "exception": false,
     "start_time": "2024-08-22T15:42:28.409730",
     "status": "completed"
    },
    "tags": []
   },
   "outputs": [],
   "source": [
    "def decomposition_plot(ts):\n",
    "# Apply seasonal_decompose \n",
    "    decomposition = sm.tsa.seasonal_decompose(ts, period=12)\n",
    "    \n",
    "# Get trend, seasonality, and residuals\n",
    "    trend = decomposition.trend\n",
    "    seasonal = decomposition.seasonal\n",
    "    residual = decomposition.resid\n",
    "\n",
    "# Plotting\n",
    "    plt.figure(figsize=(9,6))\n",
    "    plt.subplot(411)\n",
    "    plt.plot(ts, label='Original', color='blue')\n",
    "    plt.legend(loc='best')\n",
    "    plt.subplot(412)\n",
    "    plt.plot(trend, label='Trend', color='blue')\n",
    "    plt.legend(loc='best')\n",
    "    plt.subplot(413)\n",
    "    plt.plot(seasonal,label='Seasonality', color='blue')\n",
    "    plt.legend(loc='best')\n",
    "    plt.subplot(414)\n",
    "    plt.plot(residual, label='Residuals', color='blue')\n",
    "    plt.legend(loc='best')\n",
    "    plt.tight_layout()"
   ]
  },
  {
   "cell_type": "code",
   "execution_count": null,
   "id": "4fb0d0e4",
   "metadata": {
    "execution": {
     "iopub.execute_input": "2024-08-22T15:42:28.477383Z",
     "iopub.status.busy": "2024-08-22T15:42:28.476323Z",
     "iopub.status.idle": "2024-08-22T15:42:29.216258Z",
     "shell.execute_reply": "2024-08-22T15:42:29.215163Z"
    },
    "papermill": {
     "duration": 0.761068,
     "end_time": "2024-08-22T15:42:29.219284",
     "exception": false,
     "start_time": "2024-08-22T15:42:28.458216",
     "status": "completed"
    },
    "tags": []
   },
   "outputs": [],
   "source": [
    "decomposition_plot(data)"
   ]
  },
  {
   "cell_type": "markdown",
   "id": "828f46dd",
   "metadata": {
    "papermill": {
     "duration": 0.017211,
     "end_time": "2024-08-22T15:42:29.254186",
     "exception": false,
     "start_time": "2024-08-22T15:42:29.236975",
     "status": "completed"
    },
    "tags": []
   },
   "source": [
    "#### Variation of the mean and variance"
   ]
  },
  {
   "cell_type": "code",
   "execution_count": 12,
   "id": "1134bec0",
   "metadata": {
    "execution": {
     "iopub.execute_input": "2024-08-22T15:42:29.290931Z",
     "iopub.status.busy": "2024-08-22T15:42:29.290477Z",
     "iopub.status.idle": "2024-08-22T15:42:29.297640Z",
     "shell.execute_reply": "2024-08-22T15:42:29.296663Z"
    },
    "papermill": {
     "duration": 0.02753,
     "end_time": "2024-08-22T15:42:29.299598",
     "exception": false,
     "start_time": "2024-08-22T15:42:29.272068",
     "status": "completed"
    },
    "tags": []
   },
   "outputs": [],
   "source": [
    "def test_stationarity(timeseries):\n",
    "    #Determing rolling statistics\n",
    "    plt.figure(figsize=(13,6))\n",
    "    plt.plot(timeseries, color='blue',label='Original')\n",
    "    plt.plot(timeseries.rolling(window= 12,center= False).mean(),color='red',label='Moyenne')\n",
    "    plt.plot(timeseries.rolling(window=12,center= False).std(),color='orange',label='Variance')\n",
    "    plt.legend()"
   ]
  },
  {
   "cell_type": "code",
   "execution_count": null,
   "id": "abe633af",
   "metadata": {
    "execution": {
     "iopub.execute_input": "2024-08-22T15:42:29.336740Z",
     "iopub.status.busy": "2024-08-22T15:42:29.335761Z",
     "iopub.status.idle": "2024-08-22T15:42:29.638173Z",
     "shell.execute_reply": "2024-08-22T15:42:29.637020Z"
    },
    "papermill": {
     "duration": 0.324167,
     "end_time": "2024-08-22T15:42:29.641177",
     "exception": false,
     "start_time": "2024-08-22T15:42:29.317010",
     "status": "completed"
    },
    "tags": []
   },
   "outputs": [],
   "source": [
    "test_stationarity(data)"
   ]
  },
  {
   "cell_type": "markdown",
   "id": "e6e6ec1f",
   "metadata": {
    "papermill": {
     "duration": 0.017959,
     "end_time": "2024-08-22T15:42:29.677737",
     "exception": false,
     "start_time": "2024-08-22T15:42:29.659778",
     "status": "completed"
    },
    "tags": []
   },
   "source": [
    "By observing the series graph, it is evident that the series is not stationary, the mean and variance vary over time.\n",
    "\n",
    "#### Augmented Dickey-Fuller Test:\n",
    "\n",
    "We define the function Dickey_Fuller(-) which performs the augmented Dickey-Fuller test and returns the results."
   ]
  },
  {
   "cell_type": "code",
   "execution_count": 14,
   "id": "6762ae46",
   "metadata": {
    "execution": {
     "iopub.execute_input": "2024-08-22T15:42:29.752623Z",
     "iopub.status.busy": "2024-08-22T15:42:29.751682Z",
     "iopub.status.idle": "2024-08-22T15:42:29.758691Z",
     "shell.execute_reply": "2024-08-22T15:42:29.757758Z"
    },
    "papermill": {
     "duration": 0.028802,
     "end_time": "2024-08-22T15:42:29.761013",
     "exception": false,
     "start_time": "2024-08-22T15:42:29.732211",
     "status": "completed"
    },
    "tags": []
   },
   "outputs": [],
   "source": [
    "# Stationarity tests\n",
    "def Dickey_Fuller(timeseries):\n",
    "    print('Results of Dickey-Fuller Test:')\n",
    "    dftest = adfuller(timeseries, autolag='AIC')\n",
    "    dfoutput = pd.Series(dftest[0:4], index=['Test Statistic','p-value','Lags Used','Number of Observations Used'])\n",
    "    for key,value in dftest[4].items():\n",
    "        dfoutput['Critical Value (%s)'%key] = value\n",
    "    print(dfoutput)"
   ]
  },
  {
   "cell_type": "code",
   "execution_count": null,
   "id": "34a16fe4",
   "metadata": {
    "execution": {
     "iopub.execute_input": "2024-08-22T15:42:29.799501Z",
     "iopub.status.busy": "2024-08-22T15:42:29.799028Z",
     "iopub.status.idle": "2024-08-22T15:42:29.826536Z",
     "shell.execute_reply": "2024-08-22T15:42:29.825603Z"
    },
    "papermill": {
     "duration": 0.049586,
     "end_time": "2024-08-22T15:42:29.828915",
     "exception": false,
     "start_time": "2024-08-22T15:42:29.779329",
     "status": "completed"
    },
    "tags": []
   },
   "outputs": [],
   "source": [
    "Dickey_Fuller(data)"
   ]
  },
  {
   "cell_type": "markdown",
   "id": "f10e8def",
   "metadata": {
    "papermill": {
     "duration": 0.017977,
     "end_time": "2024-08-22T15:42:29.865223",
     "exception": false,
     "start_time": "2024-08-22T15:42:29.847246",
     "status": "completed"
    },
    "tags": []
   },
   "source": [
    "We observe in the test results that the t-statistic |t| = 1.66 < 3.47 the critical value (1%) with a p-value = 0.45 > 0.05, which means that the model has a unit root, so the studied process is non-stationary of type \"DS\".\n",
    "\n",
    "#### Stationarization:\n",
    "\n",
    "To stationarize this process, we will perform a first-order differencing, which is a very common and efficient method."
   ]
  },
  {
   "cell_type": "code",
   "execution_count": 16,
   "id": "6ea8c0ea",
   "metadata": {
    "execution": {
     "iopub.execute_input": "2024-08-22T15:42:29.939766Z",
     "iopub.status.busy": "2024-08-22T15:42:29.938800Z",
     "iopub.status.idle": "2024-08-22T15:42:29.948211Z",
     "shell.execute_reply": "2024-08-22T15:42:29.947274Z"
    },
    "papermill": {
     "duration": 0.031307,
     "end_time": "2024-08-22T15:42:29.950620",
     "exception": false,
     "start_time": "2024-08-22T15:42:29.919313",
     "status": "completed"
    },
    "tags": []
   },
   "outputs": [],
   "source": [
    "diff1 = data.diff()\n",
    "diff1.dropna(inplace=True)"
   ]
  },
  {
   "cell_type": "code",
   "execution_count": null,
   "id": "8a016873",
   "metadata": {
    "execution": {
     "iopub.execute_input": "2024-08-22T15:42:29.988502Z",
     "iopub.status.busy": "2024-08-22T15:42:29.988032Z",
     "iopub.status.idle": "2024-08-22T15:42:30.288997Z",
     "shell.execute_reply": "2024-08-22T15:42:30.287867Z"
    },
    "papermill": {
     "duration": 0.323473,
     "end_time": "2024-08-22T15:42:30.292222",
     "exception": false,
     "start_time": "2024-08-22T15:42:29.968749",
     "status": "completed"
    },
    "tags": []
   },
   "outputs": [],
   "source": [
    "test_stationarity(diff1)"
   ]
  },
  {
   "cell_type": "markdown",
   "id": "b9b46dff",
   "metadata": {
    "papermill": {
     "duration": 0.019102,
     "end_time": "2024-08-22T15:42:30.330693",
     "exception": false,
     "start_time": "2024-08-22T15:42:30.311591",
     "status": "completed"
    },
    "tags": []
   },
   "source": [
    "We see in the test results that the t-statistic |t| = 9.41 > 3.47 the critical value (1%) with a p-value << 0.05 very negligible, which confirms that our differenced series is indeed stationary."
   ]
  },
  {
   "cell_type": "code",
   "execution_count": null,
   "id": "b668b7c4",
   "metadata": {
    "execution": {
     "iopub.execute_input": "2024-08-22T15:42:30.370640Z",
     "iopub.status.busy": "2024-08-22T15:42:30.370210Z",
     "iopub.status.idle": "2024-08-22T15:42:30.969437Z",
     "shell.execute_reply": "2024-08-22T15:42:30.968476Z"
    },
    "papermill": {
     "duration": 0.622049,
     "end_time": "2024-08-22T15:42:30.971916",
     "exception": false,
     "start_time": "2024-08-22T15:42:30.349867",
     "status": "completed"
    },
    "tags": []
   },
   "outputs": [],
   "source": [
    "plot_acf(diff1)\n",
    "plot_pacf(diff1)\n",
    "plt.show()"
   ]
  },
  {
   "cell_type": "markdown",
   "id": "f9cde3f3",
   "metadata": {
    "papermill": {
     "duration": 0.019501,
     "end_time": "2024-08-22T15:42:31.011897",
     "exception": false,
     "start_time": "2024-08-22T15:42:30.992396",
     "status": "completed"
    },
    "tags": []
   },
   "source": [
    "#### Analysis of Simple and Partial Correlograms:\n",
    "By visualizing the correlograms of our stationarized series, we note the following:\n",
    "* The PACF cuts the confidence interval starting from lag p = 3\n",
    "* The ACF cuts the confidence interval starting from lag q = 3\n",
    "\n",
    "#### Sampling:\n",
    "\n",
    "Before proceeding to the selection and adjustment of the model, we will first perform sampling on our dataset by dividing it into a training sample (80%) and a test sample (20%); We will calculate our forecasts on the latter."
   ]
  },
  {
   "cell_type": "code",
   "execution_count": 26,
   "id": "2b030c01",
   "metadata": {
    "execution": {
     "iopub.execute_input": "2024-08-22T15:42:31.092783Z",
     "iopub.status.busy": "2024-08-22T15:42:31.091857Z",
     "iopub.status.idle": "2024-08-22T15:42:31.098398Z",
     "shell.execute_reply": "2024-08-22T15:42:31.097471Z"
    },
    "papermill": {
     "duration": 0.029523,
     "end_time": "2024-08-22T15:42:31.100604",
     "exception": false,
     "start_time": "2024-08-22T15:42:31.071081",
     "status": "completed"
    },
    "tags": []
   },
   "outputs": [],
   "source": [
    "# Train Test Split Index\n",
    "train_size = 0.8\n",
    "split_id = round(len(diff1)* train_size)\n",
    "\n",
    "# Split\n",
    "train = diff1.iloc[:split_id]\n",
    "test = diff1.iloc[split_id:]\n",
    "test1 = data.iloc[split_id:]"
   ]
  },
  {
   "cell_type": "markdown",
   "id": "66ad009f",
   "metadata": {
    "papermill": {
     "duration": 0.019153,
     "end_time": "2024-08-22T15:42:31.139477",
     "exception": false,
     "start_time": "2024-08-22T15:42:31.120324",
     "status": "completed"
    },
    "tags": []
   },
   "source": [
    "## 3. Optimal ARIMA Model Selection:\n",
    "We can rely on the analysis of the simple and partial correlogram to determine the optimal p and q orders for our model. However, the pmdarima package provides the auto-arima() method that does all the work. \n",
    "To find the best model, it optimizes for a given information criterion, one of ('aic', 'aicc', 'bic', 'hqic', 'oob'), and returns the ARIMA(p,d,q) that minimizes its value."
   ]
  },
  {
   "cell_type": "code",
   "execution_count": null,
   "id": "771de8b1",
   "metadata": {
    "execution": {
     "iopub.execute_input": "2024-08-22T15:42:31.181203Z",
     "iopub.status.busy": "2024-08-22T15:42:31.180383Z",
     "iopub.status.idle": "2024-08-22T15:42:35.285027Z",
     "shell.execute_reply": "2024-08-22T15:42:35.283723Z"
    },
    "papermill": {
     "duration": 4.13026,
     "end_time": "2024-08-22T15:42:35.289731",
     "exception": false,
     "start_time": "2024-08-22T15:42:31.159471",
     "status": "completed"
    },
    "tags": []
   },
   "outputs": [],
   "source": [
    "model = auto_arima(train, start_p=1, start_q=1,\n",
    "                      test='adf',       # use adftest to find optimal 'd'\n",
    "                      max_p=5, max_q=5, # maximum p and q\n",
    "                      m=1,              # frequency of series\n",
    "                      d=1,              # let model determine 'd'\n",
    "                      seasonal=False,   # No Seasonality\n",
    "                      start_P=0, \n",
    "                      D=1, \n",
    "                      trace=True,\n",
    "                      error_action='ignore',  \n",
    "                      suppress_warnings=True, \n",
    "                      stepwise=True)"
   ]
  },
  {
   "cell_type": "markdown",
   "id": "0b518197",
   "metadata": {
    "papermill": {
     "duration": 0.041672,
     "end_time": "2024-08-22T15:42:35.375148",
     "exception": false,
     "start_time": "2024-08-22T15:42:35.333476",
     "status": "completed"
    },
    "tags": []
   },
   "source": [
    "##### --> The optimal model that minimizes the AIC criterion is ARIMA (3,1,0)\n",
    "\n",
    "\n",
    "#### Estimation of the ARIMA(3,1,0) model:"
   ]
  },
  {
   "cell_type": "code",
   "execution_count": null,
   "id": "8831f44f",
   "metadata": {
    "execution": {
     "iopub.execute_input": "2024-08-22T15:42:35.463417Z",
     "iopub.status.busy": "2024-08-22T15:42:35.462611Z",
     "iopub.status.idle": "2024-08-22T15:42:35.587501Z",
     "shell.execute_reply": "2024-08-22T15:42:35.586145Z"
    },
    "papermill": {
     "duration": 0.152157,
     "end_time": "2024-08-22T15:42:35.592184",
     "exception": false,
     "start_time": "2024-08-22T15:42:35.440027",
     "status": "completed"
    },
    "tags": []
   },
   "outputs": [],
   "source": [
    "model = ARIMA(train, order=(3, 1, 0)) \n",
    "model.fit(train)\n",
    "print(model.summary())"
   ]
  },
  {
   "cell_type": "markdown",
   "id": "d457ab98",
   "metadata": {
    "papermill": {
     "duration": 0.036367,
     "end_time": "2024-08-22T15:42:35.673532",
     "exception": false,
     "start_time": "2024-08-22T15:42:35.637165",
     "status": "completed"
    },
    "tags": []
   },
   "source": [
    "\n",
    "### Model Validation:\n",
    "\n",
    "According to the model statistics:\n",
    "\n",
    "#### 1. Significance of the coefficients:\n",
    "* The coefficients are all significantly different from 0 (p-values < 0.05)\n",
    "\n",
    "#### 2. Residual analysis:\n",
    "* The condition of independence of the residuals is satisfied (no correlation) because the p-value of the Ljung-Box test (Prob(Q)) is greater than 0.05, we cannot reject the null hypothesis of independence.\n",
    "* We can say that the residual distribution is homoscedastic (constant variance) because the p-value of the heteroscedasticity test (Prob(H)) is greater than 0.05.\n",
    "* For the normality of the residuals, the p-value of the Jarque-Bera test (Prob(JB)) is less than 0.05, so we can reject H0.\n"
   ]
  },
  {
   "cell_type": "code",
   "execution_count": null,
   "id": "9b8cf8c3",
   "metadata": {
    "execution": {
     "iopub.execute_input": "2024-08-22T15:42:35.730190Z",
     "iopub.status.busy": "2024-08-22T15:42:35.729745Z",
     "iopub.status.idle": "2024-08-22T15:42:36.546464Z",
     "shell.execute_reply": "2024-08-22T15:42:36.545482Z"
    },
    "papermill": {
     "duration": 0.849265,
     "end_time": "2024-08-22T15:42:36.549652",
     "exception": false,
     "start_time": "2024-08-22T15:42:35.700387",
     "status": "completed"
    },
    "tags": []
   },
   "outputs": [],
   "source": [
    "model.plot_diagnostics(figsize=(14,10))\n",
    "plt.show()"
   ]
  },
  {
   "cell_type": "markdown",
   "id": "19de545f",
   "metadata": {
    "papermill": {
     "duration": 0.022603,
     "end_time": "2024-08-22T15:42:36.595197",
     "exception": false,
     "start_time": "2024-08-22T15:42:36.572594",
     "status": "completed"
    },
    "tags": []
   },
   "source": [
    "* The standardized graph describes uniform variance (absence of heteroscedasticity).\n",
    "\n",
    "* The histogram shows that the residuals necessarily follow a normal distribution (normality).\n",
    "\n",
    "* The correlogram shows no significant correlation between the residuals (absence of autocorrelation).\n",
    "\n",
    "##### ==> The residuals are white noise"
   ]
  },
  {
   "cell_type": "markdown",
   "id": "f27d91b9",
   "metadata": {
    "papermill": {
     "duration": 0.022327,
     "end_time": "2024-08-22T15:42:36.641870",
     "exception": false,
     "start_time": "2024-08-22T15:42:36.619543",
     "status": "completed"
    },
    "tags": []
   },
   "source": [
    "## 4. Out-of-sample Forecasting:\n",
    "\n",
    "Next, we will readjust our ARIMA(3,1,0) model on the differenced series, and then perform out-of-sample forecasts."
   ]
  },
  {
   "cell_type": "code",
   "execution_count": null,
   "id": "cf3272d5",
   "metadata": {
    "execution": {
     "iopub.execute_input": "2024-08-22T15:42:36.689976Z",
     "iopub.status.busy": "2024-08-22T15:42:36.689130Z",
     "iopub.status.idle": "2024-08-22T15:42:37.106193Z",
     "shell.execute_reply": "2024-08-22T15:42:37.105240Z"
    },
    "papermill": {
     "duration": 0.443684,
     "end_time": "2024-08-22T15:42:37.108615",
     "exception": false,
     "start_time": "2024-08-22T15:42:36.664931",
     "status": "completed"
    },
    "tags": []
   },
   "outputs": [],
   "source": [
    "from statsmodels.tsa.arima.model import ARIMA\n",
    "model1 = ARIMA(diff1, order=(3, 1, 0))  \n",
    "results = model1.fit()  \n",
    "plt.figure(figsize=(12,7))\n",
    "plt.plot(train)\n",
    "plt.plot(results.fittedvalues[split_id:], color='red')\n",
    "plt.show()"
   ]
  },
  {
   "cell_type": "markdown",
   "id": "a3918d51",
   "metadata": {
    "papermill": {
     "duration": 0.023716,
     "end_time": "2024-08-22T15:42:37.156069",
     "exception": false,
     "start_time": "2024-08-22T15:42:37.132353",
     "status": "completed"
    },
    "tags": []
   },
   "source": [
    "Above, we visualize the forecasts of the differenced process. To return to the original series, we need to perform some necessary transformations."
   ]
  },
  {
   "cell_type": "code",
   "execution_count": 22,
   "id": "24a1c460",
   "metadata": {
    "execution": {
     "iopub.execute_input": "2024-08-22T15:42:37.206752Z",
     "iopub.status.busy": "2024-08-22T15:42:37.205778Z",
     "iopub.status.idle": "2024-08-22T15:42:37.217816Z",
     "shell.execute_reply": "2024-08-22T15:42:37.216983Z"
    },
    "papermill": {
     "duration": 0.039931,
     "end_time": "2024-08-22T15:42:37.220014",
     "exception": false,
     "start_time": "2024-08-22T15:42:37.180083",
     "status": "completed"
    },
    "tags": []
   },
   "outputs": [],
   "source": [
    "# Cumulative sum :\n",
    "pred_diff_cumsum = pd.Series(0,index=data.index)\n",
    "pred_diff_cumsum = results.fittedvalues.cumsum()\n",
    "# original serie predictions :\n",
    "pred = pd.Series(data['Price'].iat[0], index=data.index)\n",
    "pred = pred.add(pred_diff_cumsum,fill_value=0)\n",
    "predictions = pred[split_id:]"
   ]
  },
  {
   "cell_type": "code",
   "execution_count": null,
   "id": "6d7b18c3",
   "metadata": {
    "execution": {
     "iopub.execute_input": "2024-08-22T15:42:37.270052Z",
     "iopub.status.busy": "2024-08-22T15:42:37.269607Z",
     "iopub.status.idle": "2024-08-22T15:42:37.549017Z",
     "shell.execute_reply": "2024-08-22T15:42:37.548021Z"
    },
    "papermill": {
     "duration": 0.307343,
     "end_time": "2024-08-22T15:42:37.551535",
     "exception": false,
     "start_time": "2024-08-22T15:42:37.244192",
     "status": "completed"
    },
    "tags": []
   },
   "outputs": [],
   "source": [
    "plt.figure(figsize=(13,6))\n",
    "plt.plot(data, label='Real')\n",
    "plt.plot(predictions, label='Predicted')\n",
    "plt.legend()\n",
    "plt.show()"
   ]
  },
  {
   "cell_type": "markdown",
   "id": "255a1936",
   "metadata": {
    "papermill": {
     "duration": 0.024585,
     "end_time": "2024-08-22T15:42:37.601128",
     "exception": false,
     "start_time": "2024-08-22T15:42:37.576543",
     "status": "completed"
    },
    "tags": []
   },
   "source": [
    "## Conclusion:\n",
    "We notice that the model used on our time series provides results similar to those of the test data, which reflects the good performance of these predictions."
   ]
  }
 ],
 "metadata": {
  "kaggle": {
   "accelerator": "none",
   "dataSources": [
    {
     "datasetId": 2225011,
     "sourceId": 3720177,
     "sourceType": "datasetVersion"
    }
   ],
   "dockerImageVersionId": 30197,
   "isGpuEnabled": false,
   "isInternetEnabled": true,
   "language": "python",
   "sourceType": "notebook"
  },
  "kernelspec": {
   "display_name": ".venv",
   "language": "python",
   "name": "python3"
  },
  "language_info": {
   "codemirror_mode": {
    "name": "ipython",
    "version": 3
   },
   "file_extension": ".py",
   "mimetype": "text/x-python",
   "name": "python",
   "nbconvert_exporter": "python",
   "pygments_lexer": "ipython3",
   "version": "3.11.9"
  },
  "papermill": {
   "default_parameters": {},
   "duration": 39.524573,
   "end_time": "2024-08-22T15:42:38.450100",
   "environment_variables": {},
   "exception": null,
   "input_path": "__notebook__.ipynb",
   "output_path": "__notebook__.ipynb",
   "parameters": {},
   "start_time": "2024-08-22T15:41:58.925527",
   "version": "2.3.4"
  }
 },
 "nbformat": 4,
 "nbformat_minor": 5
}
